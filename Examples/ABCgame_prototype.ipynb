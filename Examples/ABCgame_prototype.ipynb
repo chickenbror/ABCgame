{
 "cells": [
  {
   "cell_type": "code",
   "execution_count": 40,
   "metadata": {},
   "outputs": [
    {
     "name": "stdout",
     "output_type": "stream",
     "text": [
      "['s', 'f', 'm']\n"
     ]
    }
   ],
   "source": [
    "#save as a csv/tsv/json file and read & convert to dictionary?\n",
    "\n",
    "\n",
    "catogories={\n",
    "    'a day of the week':['monday','tuesday','wednesday','thursday','friday','saturday','sunday'],\n",
    "    'a fruit':['apple','banana','cantaloupe','dragon fruit','mango','tomato','watermelon','fig','strawberries'],\n",
    "    'an EU country':['austria', 'belgium', 'bulgaria', 'croatia', 'cyprus', 'czech', 'republic', 'denmark', \n",
    "                     'estonia', 'finland', 'france', 'germany', 'greece', 'hungary', 'ireland', 'italy', \n",
    "                     'latvia', 'lithuania', 'luxembourg', 'malta', 'netherlands', 'poland', 'portugal', \n",
    "                     'romania', 'slovakia', 'slovenia', 'spain', 'sweden'],\n",
    "    'a name of a month':['january','february','march','april','may','june','july','august','september','october','november','december'],\n",
    "    'a swear word':['fuck','bitch','damn','cunt','motherfucker','bugger','bloody','shit','arsehole','prick','bastard','wanker']\n",
    "    \n",
    "    \n",
    "    \n",
    "}\n",
    "\n",
    "\n",
    "things_lists = [thing for thing in catogories.values()]\n",
    "list_first_letters = []\n",
    "for things in things_lists:\n",
    "    first_letters = [thing[0] for thing in things]\n",
    "    list_first_letters.append(first_letters)\n",
    "valid_letters = set.intersection(*map(set, list_first_letters))\n",
    "valid_letters = list(valid_letters)\n",
    "print(valid_letters)"
   ]
  },
  {
   "cell_type": "code",
   "execution_count": 46,
   "metadata": {},
   "outputs": [
    {
     "name": "stdout",
     "output_type": "stream",
     "text": [
      "Your letter is M.\n",
      "Name a name of a month...march\n",
      "Yeah!Name a fruit...mango\n",
      "Yeah!Name a swear word...motherfucker\n",
      "Yeah!Name an EU country...malta\n",
      "Yeah!Name a day of the week...monday\n",
      "Yeah!Finished!\n",
      "Play again?yes\n"
     ]
    }
   ],
   "source": [
    "import random\n",
    "\n",
    "cats = random.sample(catogories.keys(),5) # choose 5 out of list\n",
    "letter = random.choice(valid_letters) # choose 1\n",
    "\n",
    "i=0\n",
    "right=0\n",
    "\n",
    "print(f'Your letter is {letter.upper()}.')\n",
    "replied = False\n",
    "\n",
    "while right<5:\n",
    "    cat = cats[i]\n",
    "    answers = [thing for thing in catogories[cat] if thing[0]==letter]\n",
    "    \n",
    "\n",
    "    reply = input(f'Name {cat}...')\n",
    "   \n",
    "    if reply.lower() in answers:\n",
    "        print('Yeah!', end='')\n",
    "        i+=1\n",
    "        right+=1\n",
    "    elif reply=='pass':\n",
    "        i+=1\n",
    "    else: \n",
    "        print((f'Try again...'))\n",
    "        \n",
    "        \n",
    "        \n",
    "        \n",
    "if right>=5:       \n",
    "    print('Finished!')\n",
    "    reply = input('Play again?')\n",
    "    if reply.lower() == 'yes':\n",
    "        right=0\n",
    "        i=0\n"
   ]
  },
  {
   "cell_type": "code",
   "execution_count": null,
   "metadata": {},
   "outputs": [],
   "source": []
  }
 ],
 "metadata": {
  "kernelspec": {
   "display_name": "Python 3",
   "language": "python",
   "name": "python3"
  },
  "language_info": {
   "codemirror_mode": {
    "name": "ipython",
    "version": 3
   },
   "file_extension": ".py",
   "mimetype": "text/x-python",
   "name": "python",
   "nbconvert_exporter": "python",
   "pygments_lexer": "ipython3",
   "version": "3.8.5"
  }
 },
 "nbformat": 4,
 "nbformat_minor": 4
}
