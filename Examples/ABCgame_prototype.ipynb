{
 "cells": [
  {
   "cell_type": "markdown",
   "metadata": {},
   "source": [
    "Questions & lists of the answers"
   ]
  },
  {
   "cell_type": "code",
   "execution_count": 291,
   "metadata": {},
   "outputs": [],
   "source": [
    "#save as a csv/tsv/json file and read & convert to dictionary?\n",
    "\n",
    "\n",
    "categories={\n",
    "    'a day of the week':['monday','tuesday','wednesday','thursday','friday','saturday','sunday'],\n",
    "    'a fruit':['apple', 'avocado', 'apricot', 'banana', 'cantaloupe', 'cherries','cherry', 'clementine', 'date', 'grapefruit', 'grapes','grape', 'honeydew', 'melon', 'lemon', 'lime', 'mandarin', 'orange', 'mango', 'orange', 'papaya', 'peach', 'pear', 'pineapple', 'plantain', 'plum', 'pomelo', 'tangerine', 'watermelon', 'strawberry', 'strawberries', 'blueberry', 'blueberries', 'lingonberries', 'lingonberry', 'dragonfruit', 'tomato', 'pawpaw', 'lychee', 'kiwifruit', 'jackfruit', 'durian', 'guava', 'passionfruit'],\n",
    "    'an EU country':['austria', 'belgium', 'bulgaria', 'croatia', 'cyprus', 'czech republic', 'czechia', 'denmark', \n",
    "                     'estonia', 'finland', 'france', 'germany', 'greece', 'hungary', 'ireland', 'italy', \n",
    "                     'latvia', 'lithuania', 'luxembourg', 'malta', 'netherlands', 'hollandm', 'poland', 'portugal', \n",
    "                     'romania', 'slovakia', 'slovenia', 'spain', 'sweden'],\n",
    "    'a name of a month':['january','february','march','april','may','june','july','august','september','october','november','december'],\n",
    "    'a swear word':['fuck','bitch','damn','cunt','motherfucker','bugger','bloody','shit','arsehole', 'asshole','prick','bastard','wanker'],\n",
    "    \n",
    "    'a country in Asia':['russia', 'china', 'india', 'kazakhstan', 'saudi arabia', 'iran', 'mongolia', 'indonesia', 'pakistan', 'turkey', 'myanmar', 'afghanistan', 'yemen', 'thailand', 'turkmenistan', 'uzbekistan', 'iraq', 'japan', 'vietnam', 'malaysia', 'oman', 'philippines', 'laos', 'kyrgyzstan', 'syria', 'cambodia', 'bangladesh', 'nepal', 'tajikistan', 'north korea', 'south korea', 'jordan', 'azerbaijan', 'united arab emirates','uae', 'georgia', 'sri lanka', 'bhutan', 'taiwan', 'armenia', 'israel', 'kuwait', 'east timor', 'qatar', 'lebanon', 'cyprus', 'northern cyprus', 'palestine', 'brunei', 'bahrain', 'singapore', 'maldives'],\n",
    "    'a country that has won Eurovision':['luxembourg', 'portugal', 'switzerland', 'russia', 'sweden', 'estonia', 'serbia', 'monaco', 'denmark', 'israel', 'norway', 'greece', 'france', 'spain', 'azerbaijan', 'belgium', 'italy', 'yugoslavia', 'finland', 'latvia', 'germany', 'ireland', 'austria', 'turkey', 'united kingdom', 'ukraine', 'netherlands',],\n",
    "    'a capital city in Europe':['amsterdam', 'andorra la vella', 'ankara', 'athens', 'baku', 'belgrade', 'berlin', 'bern', 'bratislava', 'brussels', 'bucharest', 'budapest', 'chisinau', 'kishinev', 'copenhagen', 'dublin', 'helsinki', 'kyiv', 'lisbon', 'ljubljana', 'london', 'luxembourg', 'madrid', 'minsk', 'monaco', 'moscow', 'nicosia', 'nur-sultan', 'oslo', 'paris', 'podgorica', 'prague', 'reykjavik', 'riga', 'rome', 'san marino', 'sarajevo', 'skopje', 'sofia', 'stockholm', 'tallinn', 'tbilisi', 'tirana', 'vaduz', 'valletta', 'vatican', 'vienna', 'vilnius', 'warsaw', 'yerevan', 'zagreb', 'north nicosia', 'pristina', 'stepanakert', 'sukhumi', 'tiraspol', 'tskhinvali', 'south ossetia'],\n",
    "    'a common pet':['bird','fish', 'mouse', 'rat', 'dog', 'cat', 'gerbil', 'hamster', 'spider', 'snake', 'ferret', 'goldfish', 'turtle', 'rabbit', 'pig', 'goat', 'guinea', 'pig', 'frog', 'hedgehog', 'horse', 'chicken', 'duck', 'goose', 'budgie', 'parrot', 'canary'],\n",
    "    'a vegetable':['pumpkin', 'squash', 'mushroom', 'bakchoy', 'kale', 'arugula', 'rocket', 'broccoli', 'spinash', 'carrot', 'cabbage', 'beetroot', 'celery', 'zucchini', 'potato', 'onion', 'cucumber', 'eggplant', 'aubergine', 'corn', 'cauliflower', 'asparagus'], \n",
    "    \n",
    "    \n",
    "    \n",
    "}\n"
   ]
  },
  {
   "cell_type": "code",
   "execution_count": 235,
   "metadata": {},
   "outputs": [
    {
     "name": "stdout",
     "output_type": "stream",
     "text": [
      "['a fruit', 'an EU country', 'a name of a month', 'a swear word', 'a country in Asia', 'a Eurovison winning song', 'a Eurovison winner performer', 'a country that has won Eurovision', 'a capital city in Europe']\n"
     ]
    }
   ],
   "source": [
    "\n",
    "def eligible_cats(letter):\n",
    "    '''Returns a list of categories that contain things starting with *letter. '''\n",
    "    cats_with_letter = [cat for cat in categories if len([t for t in categories[cat] if t[0]==letter])>0]\n",
    "    return cats_with_letter\n"
   ]
  },
  {
   "cell_type": "code",
   "execution_count": 293,
   "metadata": {},
   "outputs": [
    {
     "name": "stdout",
     "output_type": "stream",
     "text": [
      "['a country that has won Eurovision', 'a vegetable', 'a country in Asia', 'a capital city in Europe', 'an EU country', 'a fruit', 'a common pet', 'a swear word']\n",
      "B\n"
     ]
    }
   ],
   "source": [
    "import random\n",
    "\n",
    "class questions():\n",
    "    '''A questions object, with a letter and a list of five relevant categories. '''\n",
    "    def __init__(self): \n",
    "        self.letter = ''\n",
    "        self.five_cats = []\n",
    "        \n",
    "        done=False\n",
    "        while done==False:\n",
    "            self.letter = random.choice('abcdefghijklmnopqrstvvwxyz') # choose a random letter\n",
    "            candidates = eligible_cats(self.letter) \n",
    "            if len(candidates)>=5: # Check if there are 5 or more eligible categories, if not, choose a new letter.\n",
    "                done=True\n",
    "\n",
    "        self.five_cats = random.sample(candidates,len(candidates)) # choose random 5+ elgible categories\n",
    "\n",
    "\n",
    "\n",
    "q = questions()\n",
    "\n",
    "print(q.five_cats)\n",
    "print(q.letter.upper())\n"
   ]
  },
  {
   "cell_type": "code",
   "execution_count": 292,
   "metadata": {},
   "outputs": [
    {
     "name": "stdout",
     "output_type": "stream",
     "text": [
      "Your letter is S. Answer or say \"pass\", \"hint\", \"start again\". \n",
      "Name a country in Asia...singapore\n",
      "Yaaaaay! \n",
      "Name an EU country...slovakia\n",
      "Yaaaaay! \n",
      "Name a swear word...shit\n",
      "Yaaaaay! \n",
      "Name a fruit...starfruit\n",
      "Wrong! Try again...\n",
      "Name a fruit...update starfruit\n",
      "I've learnt that starfruit is a fruit!\n",
      "Name a fruit...strawberry\n",
      "Yaaaaay! \n",
      "Name a day of the week...sunday\n",
      "Yaaaaay! \n",
      "Well done! Play again?yes\n",
      "Your letter is P. Answer or say \"pass\", \"hint\", \"start again\". \n",
      "Name an EU country...poland\n",
      "Yaaaaay! \n",
      "Name a capital city in Europe...pristina\n",
      "Yaaaaay! \n",
      "Name a fruit...pineapple\n",
      "Yaaaaay! \n",
      "Name a common pet...parrot\n",
      "Yaaaaay! \n",
      "Name a country in Asia...palestine\n",
      "Yaaaaay! \n",
      "Well done! Play again?no\n",
      "Ok bye!\n"
     ]
    }
   ],
   "source": [
    "playing=True\n",
    "while playing==True:\n",
    "    \n",
    "    # A random letter & relavant 5 categories for the new round\n",
    "    ques=questions()\n",
    "    letter=ques.letter\n",
    "    five_cats=ques.five_cats\n",
    "\n",
    "    tally=0 # Correctly answered count\n",
    "    if tally==0:\n",
    "        print(f'Your letter is {letter.upper()}. Answer or say \"pass\", \"hint\", \"start again\". ')\n",
    "\n",
    "    while tally<5:\n",
    "        \n",
    "        #Start from the top of five_cats\n",
    "        cat = five_cats[0] \n",
    "        answers = [thing for thing in categories[cat] if thing[0]==letter] # list of things starting with letter\n",
    "\n",
    "        reply = input(f'Name {cat}...')\n",
    "        \n",
    "        # Anwser matches\n",
    "        if reply.lower() in answers:\n",
    "            print('Yaaaaay! ')\n",
    "            tally+=1\n",
    "            five_cats.pop(0)\n",
    "        \n",
    "        # If skipping, move cat to the last\n",
    "        elif reply.lower() in ['skip','pass']:\n",
    "            skip = five_cats.pop(0)\n",
    "            five_cats.append(skip)\n",
    "        \n",
    "        elif reply.lower()=='start again':\n",
    "            tally=100\n",
    "        elif reply.lower()[:7]=='update ':\n",
    "            new_thing=reply.lower()[7:]\n",
    "            categories[cat].append(new_thing)\n",
    "            print(f'I\\'ve learnt that {new_thing} is {cat}!')\n",
    "        \n",
    "        elif reply.lower()=='hint':\n",
    "            an_answer=random.choice(answers)\n",
    "            print( an_answer[:3]+'-'*(len(an_answer)-3) )\n",
    "        \n",
    "        else:\n",
    "            print('Wrong! Try again...')\n",
    "    \n",
    "    if tally<100:\n",
    "        # After getting 5 tallies \n",
    "        reply=input('Well done! Play again?')\n",
    "\n",
    "        #Reset tally\n",
    "        if reply.lower()=='yes':\n",
    "            tally=0\n",
    "\n",
    "        #Exit the loop   \n",
    "        else:\n",
    "            print('Ok bye!')\n",
    "            playing=False\n",
    "    else:\n",
    "        tally=0\n"
   ]
  },
  {
   "cell_type": "markdown",
   "metadata": {},
   "source": [
    "Web scratcher to get lists of of things from Wikipedia etc"
   ]
  },
  {
   "cell_type": "code",
   "execution_count": 172,
   "metadata": {},
   "outputs": [
    {
     "ename": "AttributeError",
     "evalue": "'NoneType' object has no attribute 'find_all'",
     "output_type": "error",
     "traceback": [
      "\u001b[1;31m---------------------------------------------------------------------------\u001b[0m",
      "\u001b[1;31mAttributeError\u001b[0m                            Traceback (most recent call last)",
      "\u001b[1;32m<ipython-input-172-60cc8ad21aa0>\u001b[0m in \u001b[0;36m<module>\u001b[1;34m\u001b[0m\n\u001b[0;32m      8\u001b[0m \u001b[1;33m\u001b[0m\u001b[0m\n\u001b[0;32m      9\u001b[0m \u001b[0melements\u001b[0m\u001b[1;33m=\u001b[0m\u001b[1;33m[\u001b[0m\u001b[1;33m]\u001b[0m\u001b[1;33m\u001b[0m\u001b[1;33m\u001b[0m\u001b[0m\n\u001b[1;32m---> 10\u001b[1;33m \u001b[1;32mfor\u001b[0m \u001b[0mitems\u001b[0m \u001b[1;32min\u001b[0m \u001b[0msoup\u001b[0m\u001b[1;33m.\u001b[0m\u001b[0mfind\u001b[0m\u001b[1;33m(\u001b[0m\u001b[1;34m'table'\u001b[0m\u001b[1;33m,\u001b[0m \u001b[0mclass_\u001b[0m\u001b[1;33m=\u001b[0m\u001b[1;34m'wikitable'\u001b[0m\u001b[1;33m)\u001b[0m\u001b[1;33m.\u001b[0m\u001b[0mfind_all\u001b[0m\u001b[1;33m(\u001b[0m\u001b[1;34m'tr'\u001b[0m\u001b[1;33m)\u001b[0m\u001b[1;33m[\u001b[0m\u001b[1;36m1\u001b[0m\u001b[1;33m:\u001b[0m\u001b[1;33m:\u001b[0m\u001b[1;36m1\u001b[0m\u001b[1;33m]\u001b[0m\u001b[1;33m:\u001b[0m\u001b[1;33m\u001b[0m\u001b[1;33m\u001b[0m\u001b[0m\n\u001b[0m\u001b[0;32m     11\u001b[0m     \u001b[0mdata\u001b[0m \u001b[1;33m=\u001b[0m \u001b[0mitems\u001b[0m\u001b[1;33m.\u001b[0m\u001b[0mfind_all\u001b[0m\u001b[1;33m(\u001b[0m\u001b[1;33m[\u001b[0m\u001b[1;34m'th'\u001b[0m\u001b[1;33m,\u001b[0m\u001b[1;34m'td'\u001b[0m\u001b[1;33m]\u001b[0m\u001b[1;33m)\u001b[0m\u001b[1;33m\u001b[0m\u001b[1;33m\u001b[0m\u001b[0m\n\u001b[0;32m     12\u001b[0m     \u001b[1;32mtry\u001b[0m\u001b[1;33m:\u001b[0m\u001b[1;33m\u001b[0m\u001b[1;33m\u001b[0m\u001b[0m\n",
      "\u001b[1;31mAttributeError\u001b[0m: 'NoneType' object has no attribute 'find_all'"
     ]
    }
   ],
   "source": [
    "import requests\n",
    "URL = 'https://simple.wikipedia.org/wiki/List_of_vegetables'\n",
    "website_url = requests.get(source).text\n",
    "from bs4 import BeautifulSoup\n",
    "\n",
    "res = requests.get(URL).text\n",
    "soup = BeautifulSoup(res,'lxml')\n",
    "\n",
    "elements=[]\n",
    "for items in soup.find('table', class_='wikitable').find_all('tr')[1::1]:\n",
    "    data = items.find_all(['th','td'])\n",
    "    try:\n",
    "        song = data[3].a.text\n",
    "        elements.append(song)\n",
    "\n",
    "    except (IndexError, AttributeError):\n",
    "            pass\n",
    "    #print(\"{}\".format(song))\n",
    "\n",
    "elements2 = [e.lower() for e in elements]\n",
    "print(elements2)\n"
   ]
  }
 ],
 "metadata": {
  "kernelspec": {
   "display_name": "Python 3",
   "language": "python",
   "name": "python3"
  },
  "language_info": {
   "codemirror_mode": {
    "name": "ipython",
    "version": 3
   },
   "file_extension": ".py",
   "mimetype": "text/x-python",
   "name": "python",
   "nbconvert_exporter": "python",
   "pygments_lexer": "ipython3",
   "version": "3.8.5"
  }
 },
 "nbformat": 4,
 "nbformat_minor": 4
}
